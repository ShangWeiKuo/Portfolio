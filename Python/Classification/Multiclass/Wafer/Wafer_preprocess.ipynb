{
  "cells": [
    {
      "cell_type": "code",
      "execution_count": null,
      "metadata": {
        "colab": {
          "base_uri": "https://localhost:8080/"
        },
        "id": "ZYcJuzSsgO5A",
        "outputId": "f97eb2c0-eae2-4518-8e73-c81d7ded2274"
      },
      "outputs": [
        {
          "name": "stdout",
          "output_type": "stream",
          "text": [
            "Drive already mounted at /content/drive; to attempt to forcibly remount, call drive.mount(\"/content/drive\", force_remount=True).\n"
          ]
        }
      ],
      "source": [
        "from google.colab import drive\n",
        "drive.mount('/content/drive')"
      ]
    },
    {
      "cell_type": "code",
      "execution_count": null,
      "metadata": {
        "colab": {
          "base_uri": "https://localhost:8080/"
        },
        "id": "OQEBNto_BtcI",
        "outputId": "608a9f2c-0ee6-4385-c28c-f1bf202da7ae"
      },
      "outputs": [],
      "source": [
        "# 讀取 libraries\n",
        "import numpy as np\n",
        "import pandas as pd\n",
        "from sklearn.model_selection import train_test_split\n",
        "import matplotlib.pyplot as plt\n",
        "from keras.utils.np_utils import to_categorical\n",
        "%matplotlib inline\n",
        "import cv2\n",
        "\n",
        "import os\n",
        "# 設定當前工作目錄\n",
        "path=\"/content/drive/MyDrive/wafer/\"\n",
        "os.chdir(path)\n",
        "\n",
        "import warnings\n",
        "warnings.filterwarnings(\"ignore\")"
      ]
    },
    {
      "cell_type": "code",
      "execution_count": null,
      "metadata": {
        "colab": {
          "base_uri": "https://localhost:8080/"
        },
        "id": "jxR5KnacB-xV",
        "outputId": "bf5f6a81-8e2e-499c-e737-edb9b1784665"
      },
      "outputs": [
        {
          "name": "stdout",
          "output_type": "stream",
          "text": [
            "<class 'pandas.core.frame.DataFrame'>\n",
            "RangeIndex: 811457 entries, 0 to 811456\n",
            "Data columns (total 6 columns):\n",
            " #   Column          Non-Null Count   Dtype  \n",
            "---  ------          --------------   -----  \n",
            " 0   waferMap        811457 non-null  object \n",
            " 1   dieSize         811457 non-null  float64\n",
            " 2   lotName         811457 non-null  object \n",
            " 3   waferIndex      811457 non-null  float64\n",
            " 4   trianTestLabel  811457 non-null  object \n",
            " 5   failureType     811457 non-null  object \n",
            "dtypes: float64(2), object(4)\n",
            "memory usage: 37.1+ MB\n"
          ]
        }
      ],
      "source": [
        "# 讀取資料(pkl檔)\n",
        "df=pd.read_pickle(\"LSWMD.pkl\")\n",
        "df.info()"
      ]
    },
    {
      "cell_type": "code",
      "execution_count": null,
      "metadata": {
        "id": "43TDHQuzCCDS"
      },
      "outputs": [],
      "source": [
        "# 刪除原先的index\n",
        "df = df.drop(['waferIndex'], axis = 1)"
      ]
    },
    {
      "cell_type": "code",
      "execution_count": null,
      "metadata": {
        "colab": {
          "base_uri": "https://localhost:8080/",
          "height": 573
        },
        "id": "VktYNU9NCCIP",
        "outputId": "4b73d8a2-f04a-4e47-df5a-7b0658b07c5f"
      },
      "outputs": [
        {
          "data": {
            "text/html": [
              "\n",
              "  <div id=\"df-7822f44e-6b55-4893-8767-00f44bc02e57\" class=\"colab-df-container\">\n",
              "    <div>\n",
              "<style scoped>\n",
              "    .dataframe tbody tr th:only-of-type {\n",
              "        vertical-align: middle;\n",
              "    }\n",
              "\n",
              "    .dataframe tbody tr th {\n",
              "        vertical-align: top;\n",
              "    }\n",
              "\n",
              "    .dataframe thead th {\n",
              "        text-align: right;\n",
              "    }\n",
              "</style>\n",
              "<table border=\"1\" class=\"dataframe\">\n",
              "  <thead>\n",
              "    <tr style=\"text-align: right;\">\n",
              "      <th></th>\n",
              "      <th>waferMap</th>\n",
              "      <th>dieSize</th>\n",
              "      <th>lotName</th>\n",
              "      <th>trianTestLabel</th>\n",
              "      <th>failureType</th>\n",
              "      <th>waferMapDim</th>\n",
              "    </tr>\n",
              "  </thead>\n",
              "  <tbody>\n",
              "    <tr>\n",
              "      <th>629268</th>\n",
              "      <td>[[0, 0, 0, 0, 0, 0, 0, 0, 0, 0, 0, 1, 1, 1, 1,...</td>\n",
              "      <td>515.0</td>\n",
              "      <td>lot39581</td>\n",
              "      <td>[]</td>\n",
              "      <td>[]</td>\n",
              "      <td>(25, 27)</td>\n",
              "    </tr>\n",
              "    <tr>\n",
              "      <th>106460</th>\n",
              "      <td>[[0, 0, 0, 0, 0, 0, 0, 0, 0, 0, 0, 0, 2, 1, 1,...</td>\n",
              "      <td>845.0</td>\n",
              "      <td>lot7248</td>\n",
              "      <td>[]</td>\n",
              "      <td>[]</td>\n",
              "      <td>(35, 31)</td>\n",
              "    </tr>\n",
              "    <tr>\n",
              "      <th>306492</th>\n",
              "      <td>[[0, 0, 0, 0, 0, 0, 0, 0, 0, 0, 0, 0, 0, 0, 0,...</td>\n",
              "      <td>1507.0</td>\n",
              "      <td>lot18667</td>\n",
              "      <td>[]</td>\n",
              "      <td>[]</td>\n",
              "      <td>(44, 44)</td>\n",
              "    </tr>\n",
              "    <tr>\n",
              "      <th>354367</th>\n",
              "      <td>[[0, 0, 0, 0, 0, 0, 0, 0, 0, 0, 0, 0, 0, 0, 0,...</td>\n",
              "      <td>2582.0</td>\n",
              "      <td>lot21156</td>\n",
              "      <td>[]</td>\n",
              "      <td>[]</td>\n",
              "      <td>(59, 56)</td>\n",
              "    </tr>\n",
              "    <tr>\n",
              "      <th>472466</th>\n",
              "      <td>[[0, 0, 0, 0, 0, 0, 0, 0, 0, 0, 0, 0, 0, 0, 0,...</td>\n",
              "      <td>1513.0</td>\n",
              "      <td>lot29089</td>\n",
              "      <td>[]</td>\n",
              "      <td>[]</td>\n",
              "      <td>(49, 39)</td>\n",
              "    </tr>\n",
              "  </tbody>\n",
              "</table>\n",
              "</div>\n",
              "    <div class=\"colab-df-buttons\">\n",
              "\n",
              "  <div class=\"colab-df-container\">\n",
              "    <button class=\"colab-df-convert\" onclick=\"convertToInteractive('df-7822f44e-6b55-4893-8767-00f44bc02e57')\"\n",
              "            title=\"Convert this dataframe to an interactive table.\"\n",
              "            style=\"display:none;\">\n",
              "\n",
              "  <svg xmlns=\"http://www.w3.org/2000/svg\" height=\"24px\" viewBox=\"0 -960 960 960\">\n",
              "    <path d=\"M120-120v-720h720v720H120Zm60-500h600v-160H180v160Zm220 220h160v-160H400v160Zm0 220h160v-160H400v160ZM180-400h160v-160H180v160Zm440 0h160v-160H620v160ZM180-180h160v-160H180v160Zm440 0h160v-160H620v160Z\"/>\n",
              "  </svg>\n",
              "    </button>\n",
              "\n",
              "  <style>\n",
              "    .colab-df-container {\n",
              "      display:flex;\n",
              "      gap: 12px;\n",
              "    }\n",
              "\n",
              "    .colab-df-convert {\n",
              "      background-color: #E8F0FE;\n",
              "      border: none;\n",
              "      border-radius: 50%;\n",
              "      cursor: pointer;\n",
              "      display: none;\n",
              "      fill: #1967D2;\n",
              "      height: 32px;\n",
              "      padding: 0 0 0 0;\n",
              "      width: 32px;\n",
              "    }\n",
              "\n",
              "    .colab-df-convert:hover {\n",
              "      background-color: #E2EBFA;\n",
              "      box-shadow: 0px 1px 2px rgba(60, 64, 67, 0.3), 0px 1px 3px 1px rgba(60, 64, 67, 0.15);\n",
              "      fill: #174EA6;\n",
              "    }\n",
              "\n",
              "    .colab-df-buttons div {\n",
              "      margin-bottom: 4px;\n",
              "    }\n",
              "\n",
              "    [theme=dark] .colab-df-convert {\n",
              "      background-color: #3B4455;\n",
              "      fill: #D2E3FC;\n",
              "    }\n",
              "\n",
              "    [theme=dark] .colab-df-convert:hover {\n",
              "      background-color: #434B5C;\n",
              "      box-shadow: 0px 1px 3px 1px rgba(0, 0, 0, 0.15);\n",
              "      filter: drop-shadow(0px 1px 2px rgba(0, 0, 0, 0.3));\n",
              "      fill: #FFFFFF;\n",
              "    }\n",
              "  </style>\n",
              "\n",
              "    <script>\n",
              "      const buttonEl =\n",
              "        document.querySelector('#df-7822f44e-6b55-4893-8767-00f44bc02e57 button.colab-df-convert');\n",
              "      buttonEl.style.display =\n",
              "        google.colab.kernel.accessAllowed ? 'block' : 'none';\n",
              "\n",
              "      async function convertToInteractive(key) {\n",
              "        const element = document.querySelector('#df-7822f44e-6b55-4893-8767-00f44bc02e57');\n",
              "        const dataTable =\n",
              "          await google.colab.kernel.invokeFunction('convertToInteractive',\n",
              "                                                    [key], {});\n",
              "        if (!dataTable) return;\n",
              "\n",
              "        const docLinkHtml = 'Like what you see? Visit the ' +\n",
              "          '<a target=\"_blank\" href=https://colab.research.google.com/notebooks/data_table.ipynb>data table notebook</a>'\n",
              "          + ' to learn more about interactive tables.';\n",
              "        element.innerHTML = '';\n",
              "        dataTable['output_type'] = 'display_data';\n",
              "        await google.colab.output.renderOutput(dataTable, element);\n",
              "        const docLink = document.createElement('div');\n",
              "        docLink.innerHTML = docLinkHtml;\n",
              "        element.appendChild(docLink);\n",
              "      }\n",
              "    </script>\n",
              "  </div>\n",
              "\n",
              "\n",
              "<div id=\"df-cd65cb69-e999-4c5c-b06c-07c605690346\">\n",
              "  <button class=\"colab-df-quickchart\" onclick=\"quickchart('df-cd65cb69-e999-4c5c-b06c-07c605690346')\"\n",
              "            title=\"Suggest charts.\"\n",
              "            style=\"display:none;\">\n",
              "\n",
              "<svg xmlns=\"http://www.w3.org/2000/svg\" height=\"24px\"viewBox=\"0 0 24 24\"\n",
              "     width=\"24px\">\n",
              "    <g>\n",
              "        <path d=\"M19 3H5c-1.1 0-2 .9-2 2v14c0 1.1.9 2 2 2h14c1.1 0 2-.9 2-2V5c0-1.1-.9-2-2-2zM9 17H7v-7h2v7zm4 0h-2V7h2v10zm4 0h-2v-4h2v4z\"/>\n",
              "    </g>\n",
              "</svg>\n",
              "  </button>\n",
              "\n",
              "<style>\n",
              "  .colab-df-quickchart {\n",
              "    background-color: #E8F0FE;\n",
              "    border: none;\n",
              "    border-radius: 50%;\n",
              "    cursor: pointer;\n",
              "    display: none;\n",
              "    fill: #1967D2;\n",
              "    height: 32px;\n",
              "    padding: 0 0 0 0;\n",
              "    width: 32px;\n",
              "  }\n",
              "\n",
              "  .colab-df-quickchart:hover {\n",
              "    background-color: #E2EBFA;\n",
              "    box-shadow: 0px 1px 2px rgba(60, 64, 67, 0.3), 0px 1px 3px 1px rgba(60, 64, 67, 0.15);\n",
              "    fill: #174EA6;\n",
              "  }\n",
              "\n",
              "  [theme=dark] .colab-df-quickchart {\n",
              "    background-color: #3B4455;\n",
              "    fill: #D2E3FC;\n",
              "  }\n",
              "\n",
              "  [theme=dark] .colab-df-quickchart:hover {\n",
              "    background-color: #434B5C;\n",
              "    box-shadow: 0px 1px 3px 1px rgba(0, 0, 0, 0.15);\n",
              "    filter: drop-shadow(0px 1px 2px rgba(0, 0, 0, 0.3));\n",
              "    fill: #FFFFFF;\n",
              "  }\n",
              "</style>\n",
              "\n",
              "  <script>\n",
              "    async function quickchart(key) {\n",
              "      const charts = await google.colab.kernel.invokeFunction(\n",
              "          'suggestCharts', [key], {});\n",
              "    }\n",
              "    (() => {\n",
              "      let quickchartButtonEl =\n",
              "        document.querySelector('#df-cd65cb69-e999-4c5c-b06c-07c605690346 button');\n",
              "      quickchartButtonEl.style.display =\n",
              "        google.colab.kernel.accessAllowed ? 'block' : 'none';\n",
              "    })();\n",
              "  </script>\n",
              "</div>\n",
              "    </div>\n",
              "  </div>\n"
            ],
            "text/plain": [
              "                                                 waferMap  dieSize   lotName  \\\n",
              "629268  [[0, 0, 0, 0, 0, 0, 0, 0, 0, 0, 0, 1, 1, 1, 1,...    515.0  lot39581   \n",
              "106460  [[0, 0, 0, 0, 0, 0, 0, 0, 0, 0, 0, 0, 2, 1, 1,...    845.0   lot7248   \n",
              "306492  [[0, 0, 0, 0, 0, 0, 0, 0, 0, 0, 0, 0, 0, 0, 0,...   1507.0  lot18667   \n",
              "354367  [[0, 0, 0, 0, 0, 0, 0, 0, 0, 0, 0, 0, 0, 0, 0,...   2582.0  lot21156   \n",
              "472466  [[0, 0, 0, 0, 0, 0, 0, 0, 0, 0, 0, 0, 0, 0, 0,...   1513.0  lot29089   \n",
              "\n",
              "       trianTestLabel failureType waferMapDim  \n",
              "629268             []          []    (25, 27)  \n",
              "106460             []          []    (35, 31)  \n",
              "306492             []          []    (44, 44)  \n",
              "354367             []          []    (59, 56)  \n",
              "472466             []          []    (49, 39)  "
            ]
          },
          "execution_count": 5,
          "metadata": {},
          "output_type": "execute_result"
        }
      ],
      "source": [
        "# 算出晶圓的長寬，並儲存至新欄位 waferMapDim\n",
        "def find_dim(x):\n",
        "    dim0 = np.size(x, axis=0)\n",
        "    dim1 = np.size(x, axis=1)\n",
        "    return dim0,dim1\n",
        "df['waferMapDim'] = df.waferMap.apply(find_dim)\n",
        "df.sample(5)"
      ]
    },
    {
      "cell_type": "code",
      "execution_count": null,
      "metadata": {
        "id": "B3MHCsOuCCLT"
      },
      "outputs": [],
      "source": [
        "# 將 failureType 和 trianTestLabel 欄位名稱改為 failureNum 和 trainTestNum\n",
        "df['failureNum'] = df.failureType\n",
        "df['trainTestNum'] = df.trianTestLabel\n",
        "# 將 failureNum 和 trainTestNum 兩個欄位內容轉為數字代碼\n",
        "mapping_type = {'Center':0,\n",
        "         'Donut':1,\n",
        "         'Edge-Loc':2,\n",
        "         'Edge-Ring':3,\n",
        "         'Loc':4,\n",
        "         'Random':5,\n",
        "         'Scratch':6,\n",
        "         'Near-full':7,\n",
        "         'none':8} # none = 無缺陷\n",
        "mapping_traintest = {'Training':0, 'Test':1}\n",
        "df = df.replace({'failureNum':mapping_type, 'trainTestNum':mapping_traintest})"
      ]
    },
    {
      "cell_type": "code",
      "execution_count": null,
      "metadata": {
        "id": "y9647DmwCCOd"
      },
      "outputs": [],
      "source": [
        "# 從原始資料取出 8 種缺陷類型的晶圓資料\n",
        "df_withpattern = df[(df['failureNum']>=0) & (df['failureNum']<=7)]\n",
        "# 重設 index\n",
        "df_withpattern = df_withpattern.reset_index()\n",
        "# 刪除後續沒有用到的欄位 dieSize 和 lotName\n",
        "df_withpattern = df_withpattern.drop(columns=['dieSize', 'lotName'])"
      ]
    },
    {
      "cell_type": "code",
      "execution_count": null,
      "metadata": {
        "colab": {
          "base_uri": "https://localhost:8080/",
          "height": 431
        },
        "id": "xdf9VE2DCCX3",
        "outputId": "07831b3c-fd8c-43a3-ada1-359ec6ee6b83"
      },
      "outputs": [
        {
          "data": {
            "image/png": "[encoded data removed]",
            "text/plain": [
              "<Figure size 640x480 with 1 Axes>"
            ]
          },
          "metadata": {},
          "output_type": "display_data"
        }
      ],
      "source": [
        "# 第一張晶圓缺陷圖呈現(缺陷種類: Loc)\n",
        "plt.imshow(df_withpattern.waferMap[0])\n",
        "plt.show()"
      ]
    },
    {
      "cell_type": "code",
      "execution_count": null,
      "metadata": {
        "colab": {
          "base_uri": "https://localhost:8080/",
          "height": 431
        },
        "id": "uv4VLX98CKkh",
        "outputId": "990f8afc-e351-4042-e00a-d1a438627f1e"
      },
      "outputs": [
        {
          "data": {
            "image/png": "[encoded data removed]",
            "text/plain": [
              "<Figure size 640x480 with 1 Axes>"
            ]
          },
          "metadata": {},
          "output_type": "display_data"
        }
      ],
      "source": [
        "# 經過中值濾波器(median filter)降噪後的第一張晶圓缺陷圖呈現\n",
        "plt.imshow(cv2.medianBlur(df_withpattern.waferMap[0], 3))\n",
        "plt.show()"
      ]
    },
    {
      "cell_type": "code",
      "execution_count": null,
      "metadata": {
        "id": "-CnfsE7mCNBC"
      },
      "outputs": [],
      "source": [
        "# 將資料複製一份到新變數 df_labeled\n",
        "df_labeled = df_withpattern.copy()\n",
        "# 取出晶圓陣列資料\n",
        "X = df_labeled['waferMap'].values\n",
        "# 取出缺陷種類欄位的內容，並轉換為 float 32 位元型態，接著利用 to_categorical 將類別向量 y 轉換為二進位的矩陣向量(One-hot encoding 技術，以 0 和 1 區分標籤類別)\n",
        "y = np.array(df_labeled['failureNum']).astype('float32') # astype 適用於 numpy 中資料型態的轉換\n",
        "y = to_categorical(y, num_classes=8)"
      ]
    },
    {
      "cell_type": "code",
      "execution_count": null,
      "metadata": {
        "id": "6zmSZ5rtCOVm"
      },
      "outputs": [],
      "source": [
        "# 將每張圖片利用中值濾波器去除影像雜訊，並存到 X_copy\n",
        "X_copy = [ ]\n",
        "\n",
        "for i in range(X.shape[0]):\n",
        "  img = cv2.medianBlur(X[i], 3)\n",
        "  X_copy.append(img)\n",
        "\n",
        "X_copy = np.array(X_copy)"
      ]
    },
    {
      "cell_type": "code",
      "execution_count": null,
      "metadata": {
        "id": "i87RC8grCPrp"
      },
      "outputs": [],
      "source": [
        "# 將每張圖片大小設定為 64 x 64\n",
        "X_copy_v2 = np.array([cv2.resize(img, dsize=(64,64)) for img in X_copy])"
      ]
    },
    {
      "cell_type": "code",
      "execution_count": null,
      "metadata": {
        "colab": {
          "base_uri": "https://localhost:8080/",
          "height": 432
        },
        "id": "4FiqC3VcCQ-t",
        "outputId": "9483eb1f-4816-4205-8ddc-d695e584901a"
      },
      "outputs": [
        {
          "data": {
            "image/png": "[encoded data removed]",
            "text/plain": [
              "<Figure size 640x480 with 1 Axes>"
            ]
          },
          "metadata": {},
          "output_type": "display_data"
        }
      ],
      "source": [
        "# 降噪後的晶圓缺陷圖 (種類:Loc, 大小: 64 x 64)\n",
        "plt.imshow(X_copy_v2[0])\n",
        "plt.show()"
      ]
    },
    {
      "cell_type": "code",
      "execution_count": null,
      "metadata": {
        "id": "Y97tqHBaCSRE"
      },
      "outputs": [],
      "source": [
        "# 每張圖片轉換為三維空間大小\n",
        "# (注意: 第三維的數值為 1，目前還不能填 3，否則會因為無法從原先 64 x 64 的維度拆解為 64 x 64 x 3而出現 error)\n",
        "X_copy_v2 = X_copy_v2.reshape((-1, 64, 64, 1))"
      ]
    },
    {
      "cell_type": "code",
      "execution_count": null,
      "metadata": {
        "id": "F9YhtAn5CSuf"
      },
      "outputs": [],
      "source": [
        "# 根據 Data Science & Business Analytics Lab, School of Industrial Management Engineering, College of Engineering, Korea University[http://dsba.korea.ac.kr/main] 的方法\n",
        "# Wafer data's each pixels have a categorical variable that express 0 : not wafer, 1 : normal, 2 : faulty.\n",
        "# Extend extra dimension with one-hot-encoded categorical data as channel.\n",
        "new_X_copy = np.zeros((len(X_copy_v2), 64, 64, 3))\n",
        "\n",
        "for w in range(len(X_copy_v2)):\n",
        "  for i in range(64):\n",
        "    for j in range(64):\n",
        "      new_X_copy[w, i, j, int(X_copy_v2[w, i, j])] = 1"
      ]
    },
    {
      "cell_type": "code",
      "execution_count": null,
      "metadata": {
        "id": "QLKqhbM1CULg"
      },
      "outputs": [],
      "source": [
        "# 轉換為 float 32 位元型態\n",
        "new_X_copy = new_X_copy.astype('float32')"
      ]
    },
    {
      "cell_type": "code",
      "execution_count": null,
      "metadata": {
        "colab": {
          "base_uri": "https://localhost:8080/",
          "height": 432
        },
        "id": "VX6dYD1PCVZJ",
        "outputId": "d1f7e959-c9a1-4e32-81ef-b8a7a3eb3029"
      },
      "outputs": [
        {
          "data": {
            "image/png": "[encoded data removed]",
            "text/plain": [
              "<Figure size 640x480 with 1 Axes>"
            ]
          },
          "metadata": {},
          "output_type": "display_data"
        }
      ],
      "source": [
        "plt.imshow(new_X_copy[0])\n",
        "plt.show()"
      ]
    },
    {
      "cell_type": "code",
      "execution_count": null,
      "metadata": {
        "colab": {
          "base_uri": "https://localhost:8080/",
          "height": 432
        },
        "id": "aP545zIKCWZp",
        "outputId": "a4ad7987-d37a-4c2e-ec64-cacceb35949a"
      },
      "outputs": [
        {
          "data": {
            "image/png": "[encoded data removed]",
            "text/plain": [
              "<Figure size 640x480 with 1 Axes>"
            ]
          },
          "metadata": {},
          "output_type": "display_data"
        }
      ],
      "source": [
        "plt.imshow(new_X_copy[df_labeled['failureNum']==0][0])\n",
        "plt.show()"
      ]
    },
    {
      "cell_type": "code",
      "execution_count": null,
      "metadata": {
        "id": "_nWchD-ZerRV"
      },
      "outputs": [],
      "source": [
        "# 資料切割 (80% = Train, 20% = Test)\n",
        "X_train, X_test, y_train, y_test = train_test_split(new_X_copy, y, test_size=0.2, stratify=y, random_state=2021)"
      ]
    },
    {
      "cell_type": "code",
      "execution_count": null,
      "metadata": {
        "id": "elIgn9gPCXqS"
      },
      "outputs": [],
      "source": [
        "# 儲存資料\n",
        "# np.savez(os.path.join(path, 'rawdata.npz'), X_data=new_X_copy, y_data=y)\n",
        "np.savez(os.path.join(path, 'rawdata.npz'), X_train=X_train, X_test=X_test, y_train=y_train, y_test=y_test)"
      ]
    }
  ],
  "metadata": {
    "colab": {
      "provenance": []
    },
    "kernelspec": {
      "display_name": "Python 3",
      "name": "python3"
    },
    "language_info": {
      "name": "python"
    }
  },
  "nbformat": 4,
  "nbformat_minor": 0
}
