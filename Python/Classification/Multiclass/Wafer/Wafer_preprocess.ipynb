{
  "nbformat": 4,
  "nbformat_minor": 0,
  "metadata": {
    "colab": {
      "name": "Wafer preprocess.ipynb",
      "provenance": [],
      "collapsed_sections": [],
      "mount_file_id": "1cLWvStNKIGDfrMYrxC2fvbCeRv3qMu1c",
      "authorship_tag": "ABX9TyMOclsVGOGgjmQHFzkSFGIZ",
      "include_colab_link": true
    },
    "kernelspec": {
      "name": "python3",
      "display_name": "Python 3"
    },
    "language_info": {
      "name": "python"
    },
    "accelerator": "GPU"
  },
  "cells": [
    {
      "cell_type": "markdown",
      "metadata": {
        "id": "view-in-github",
        "colab_type": "text"
      },
      "source": [
        "<a href=\"https://colab.research.google.com/github/ShangWeiKuo/Portfolio/blob/main/Python/Classification/Multiclass/Wafer/Wafer_preprocess.ipynb\" target=\"_parent\"><img src=\"https://colab.research.google.com/assets/colab-badge.svg\" alt=\"Open In Colab\"/></a>"
      ]
    },
    {
      "cell_type": "code",
      "metadata": {
        "id": "OQEBNto_BtcI",
        "colab": {
          "base_uri": "https://localhost:8080/"
        },
        "outputId": "e3b9dd3f-b9a5-4122-d489-bf5a5e51b7dd"
      },
      "source": [
        "# 讀取 libraries\n",
        "import json\n",
        "import numpy as np \n",
        "import pandas as pd\n",
        "import tensorflow as tf\n",
        "from sklearn.model_selection import train_test_split\n",
        "import matplotlib.pyplot as plt\n",
        "from keras.utils.np_utils import to_categorical\n",
        "%matplotlib inline \n",
        "\n",
        "import cv2\n",
        "from skimage import measure\n",
        "from scipy import stats\n",
        "\n",
        "import os\n",
        "# 設定當前工作目錄\n",
        "path=\"/content/drive/MyDrive/wafer/\"\n",
        "os.chdir(path)\n",
        "\n",
        "print(os.listdir(path))\n",
        "\n",
        "import warnings\n",
        "warnings.filterwarnings(\"ignore\")"
      ],
      "execution_count": 1,
      "outputs": [
        {
          "output_type": "stream",
          "name": "stdout",
          "text": [
            "['Wafer classification_Densenet201.ipynb', 'wafer-defect-classification-by-deep-learning.ipynb', 'Untitled1.ipynb', 'Wafer detection.ipynb', 'wafer.zip', 'LSWMD.pkl', 'Wafer anomaly detection_AutoEncoder.ipynb', 'Wafer classification_EfficientNetB7.ipynb', 'Wafer anomaly detection_Denoising AutoEncoder.ipynb', 'Wafer anomaly detection.ipynb', 'Wafer classification_KFold.ipynb', 'wafer_detection_densenet_model.h5', 'Wafer classification_Densenet201_PyTorch.ipynb', 'Wafer classification_MobileNet-V2.ipynb', 'Wafer classification_ResNet101.ipynb', 'Wafer classification_Inception-v4.ipynb', 'Wafer classification_Xception.ipynb', 'Model_evaluation_comparison.ipynb', 'model', 'Wafer classification_Densenet201_v2.ipynb', 'Wafer preprocess.ipynb']\n"
          ]
        }
      ]
    },
    {
      "cell_type": "code",
      "metadata": {
        "id": "jxR5KnacB-xV",
        "colab": {
          "base_uri": "https://localhost:8080/"
        },
        "outputId": "6f52d706-a178-4f19-c77d-8bb2884df81e"
      },
      "source": [
        "# 讀取資料(pkl檔)\n",
        "df=pd.read_pickle(\"LSWMD.pkl\")\n",
        "df.info()"
      ],
      "execution_count": 2,
      "outputs": [
        {
          "output_type": "stream",
          "name": "stdout",
          "text": [
            "<class 'pandas.core.frame.DataFrame'>\n",
            "RangeIndex: 811457 entries, 0 to 811456\n",
            "Data columns (total 6 columns):\n",
            " #   Column          Non-Null Count   Dtype  \n",
            "---  ------          --------------   -----  \n",
            " 0   waferMap        811457 non-null  object \n",
            " 1   dieSize         811457 non-null  float64\n",
            " 2   lotName         811457 non-null  object \n",
            " 3   waferIndex      811457 non-null  float64\n",
            " 4   trianTestLabel  811457 non-null  object \n",
            " 5   failureType     811457 non-null  object \n",
            "dtypes: float64(2), object(4)\n",
            "memory usage: 37.1+ MB\n"
          ]
        }
      ]
    },
    {
      "cell_type": "code",
      "metadata": {
        "id": "43TDHQuzCCDS"
      },
      "source": [
        "# 刪除原先的index\n",
        "df = df.drop(['waferIndex'], axis = 1)"
      ],
      "execution_count": 3,
      "outputs": []
    },
    {
      "cell_type": "code",
      "metadata": {
        "id": "VktYNU9NCCIP",
        "colab": {
          "base_uri": "https://localhost:8080/",
          "height": 337
        },
        "outputId": "ad95ab62-6847-4584-bff4-e2a4a4f3fb44"
      },
      "source": [
        "# 算出晶圓的長寬，並儲存至新欄位 waferMapDim\n",
        "def find_dim(x):\n",
        "    dim0 = np.size(x, axis=0)\n",
        "    dim1 = np.size(x, axis=1)\n",
        "    return dim0,dim1\n",
        "df['waferMapDim'] = df.waferMap.apply(find_dim)\n",
        "df.sample(5)"
      ],
      "execution_count": 4,
      "outputs": [
        {
          "output_type": "execute_result",
          "data": {
            "text/html": [
              "\n",
              "  <div id=\"df-f8655fdd-e147-4035-ab9d-45a84a423d0f\">\n",
              "    <div class=\"colab-df-container\">\n",
              "      <div>\n",
              "<style scoped>\n",
              "    .dataframe tbody tr th:only-of-type {\n",
              "        vertical-align: middle;\n",
              "    }\n",
              "\n",
              "    .dataframe tbody tr th {\n",
              "        vertical-align: top;\n",
              "    }\n",
              "\n",
              "    .dataframe thead th {\n",
              "        text-align: right;\n",
              "    }\n",
              "</style>\n",
              "<table border=\"1\" class=\"dataframe\">\n",
              "  <thead>\n",
              "    <tr style=\"text-align: right;\">\n",
              "      <th></th>\n",
              "      <th>waferMap</th>\n",
              "      <th>dieSize</th>\n",
              "      <th>lotName</th>\n",
              "      <th>trianTestLabel</th>\n",
              "      <th>failureType</th>\n",
              "      <th>waferMapDim</th>\n",
              "    </tr>\n",
              "  </thead>\n",
              "  <tbody>\n",
              "    <tr>\n",
              "      <th>603817</th>\n",
              "      <td>[[0, 0, 0, 0, 0, 0, 0, 0, 0, 0, 0, 0, 0, 0, 0,...</td>\n",
              "      <td>1513.0</td>\n",
              "      <td>lot38021</td>\n",
              "      <td>[]</td>\n",
              "      <td>[]</td>\n",
              "      <td>(49, 39)</td>\n",
              "    </tr>\n",
              "    <tr>\n",
              "      <th>57741</th>\n",
              "      <td>[[0, 0, 0, 0, 0, 0, 0, 0, 0, 0, 0, 1, 2, 1, 1,...</td>\n",
              "      <td>939.0</td>\n",
              "      <td>lot4613</td>\n",
              "      <td>[]</td>\n",
              "      <td>[]</td>\n",
              "      <td>(42, 29)</td>\n",
              "    </tr>\n",
              "    <tr>\n",
              "      <th>135546</th>\n",
              "      <td>[[0, 0, 0, 0, 0, 0, 0, 0, 0, 0, 0, 0, 0, 0, 0,...</td>\n",
              "      <td>2937.0</td>\n",
              "      <td>lot8854</td>\n",
              "      <td>[]</td>\n",
              "      <td>[]</td>\n",
              "      <td>(62, 61)</td>\n",
              "    </tr>\n",
              "    <tr>\n",
              "      <th>646705</th>\n",
              "      <td>[[0, 0, 0, 0, 0, 0, 0, 0, 0, 0, 2, 2, 1, 1, 1,...</td>\n",
              "      <td>533.0</td>\n",
              "      <td>lot40612</td>\n",
              "      <td>[[Test]]</td>\n",
              "      <td>[[none]]</td>\n",
              "      <td>(26, 26)</td>\n",
              "    </tr>\n",
              "    <tr>\n",
              "      <th>112357</th>\n",
              "      <td>[[0, 0, 0, 0, 0, 0, 0, 0, 0, 0, 1, 1, 1, 1, 1,...</td>\n",
              "      <td>533.0</td>\n",
              "      <td>lot7557</td>\n",
              "      <td>[]</td>\n",
              "      <td>[]</td>\n",
              "      <td>(26, 26)</td>\n",
              "    </tr>\n",
              "  </tbody>\n",
              "</table>\n",
              "</div>\n",
              "      <button class=\"colab-df-convert\" onclick=\"convertToInteractive('df-f8655fdd-e147-4035-ab9d-45a84a423d0f')\"\n",
              "              title=\"Convert this dataframe to an interactive table.\"\n",
              "              style=\"display:none;\">\n",
              "        \n",
              "  <svg xmlns=\"http://www.w3.org/2000/svg\" height=\"24px\"viewBox=\"0 0 24 24\"\n",
              "       width=\"24px\">\n",
              "    <path d=\"M0 0h24v24H0V0z\" fill=\"none\"/>\n",
              "    <path d=\"M18.56 5.44l.94 2.06.94-2.06 2.06-.94-2.06-.94-.94-2.06-.94 2.06-2.06.94zm-11 1L8.5 8.5l.94-2.06 2.06-.94-2.06-.94L8.5 2.5l-.94 2.06-2.06.94zm10 10l.94 2.06.94-2.06 2.06-.94-2.06-.94-.94-2.06-.94 2.06-2.06.94z\"/><path d=\"M17.41 7.96l-1.37-1.37c-.4-.4-.92-.59-1.43-.59-.52 0-1.04.2-1.43.59L10.3 9.45l-7.72 7.72c-.78.78-.78 2.05 0 2.83L4 21.41c.39.39.9.59 1.41.59.51 0 1.02-.2 1.41-.59l7.78-7.78 2.81-2.81c.8-.78.8-2.07 0-2.86zM5.41 20L4 18.59l7.72-7.72 1.47 1.35L5.41 20z\"/>\n",
              "  </svg>\n",
              "      </button>\n",
              "      \n",
              "  <style>\n",
              "    .colab-df-container {\n",
              "      display:flex;\n",
              "      flex-wrap:wrap;\n",
              "      gap: 12px;\n",
              "    }\n",
              "\n",
              "    .colab-df-convert {\n",
              "      background-color: #E8F0FE;\n",
              "      border: none;\n",
              "      border-radius: 50%;\n",
              "      cursor: pointer;\n",
              "      display: none;\n",
              "      fill: #1967D2;\n",
              "      height: 32px;\n",
              "      padding: 0 0 0 0;\n",
              "      width: 32px;\n",
              "    }\n",
              "\n",
              "    .colab-df-convert:hover {\n",
              "      background-color: #E2EBFA;\n",
              "      box-shadow: 0px 1px 2px rgba(60, 64, 67, 0.3), 0px 1px 3px 1px rgba(60, 64, 67, 0.15);\n",
              "      fill: #174EA6;\n",
              "    }\n",
              "\n",
              "    [theme=dark] .colab-df-convert {\n",
              "      background-color: #3B4455;\n",
              "      fill: #D2E3FC;\n",
              "    }\n",
              "\n",
              "    [theme=dark] .colab-df-convert:hover {\n",
              "      background-color: #434B5C;\n",
              "      box-shadow: 0px 1px 3px 1px rgba(0, 0, 0, 0.15);\n",
              "      filter: drop-shadow(0px 1px 2px rgba(0, 0, 0, 0.3));\n",
              "      fill: #FFFFFF;\n",
              "    }\n",
              "  </style>\n",
              "\n",
              "      <script>\n",
              "        const buttonEl =\n",
              "          document.querySelector('#df-f8655fdd-e147-4035-ab9d-45a84a423d0f button.colab-df-convert');\n",
              "        buttonEl.style.display =\n",
              "          google.colab.kernel.accessAllowed ? 'block' : 'none';\n",
              "\n",
              "        async function convertToInteractive(key) {\n",
              "          const element = document.querySelector('#df-f8655fdd-e147-4035-ab9d-45a84a423d0f');\n",
              "          const dataTable =\n",
              "            await google.colab.kernel.invokeFunction('convertToInteractive',\n",
              "                                                     [key], {});\n",
              "          if (!dataTable) return;\n",
              "\n",
              "          const docLinkHtml = 'Like what you see? Visit the ' +\n",
              "            '<a target=\"_blank\" href=https://colab.research.google.com/notebooks/data_table.ipynb>data table notebook</a>'\n",
              "            + ' to learn more about interactive tables.';\n",
              "          element.innerHTML = '';\n",
              "          dataTable['output_type'] = 'display_data';\n",
              "          await google.colab.output.renderOutput(dataTable, element);\n",
              "          const docLink = document.createElement('div');\n",
              "          docLink.innerHTML = docLinkHtml;\n",
              "          element.appendChild(docLink);\n",
              "        }\n",
              "      </script>\n",
              "    </div>\n",
              "  </div>\n",
              "  "
            ],
            "text/plain": [
              "                                                 waferMap  ...  waferMapDim\n",
              "603817  [[0, 0, 0, 0, 0, 0, 0, 0, 0, 0, 0, 0, 0, 0, 0,...  ...     (49, 39)\n",
              "57741   [[0, 0, 0, 0, 0, 0, 0, 0, 0, 0, 0, 1, 2, 1, 1,...  ...     (42, 29)\n",
              "135546  [[0, 0, 0, 0, 0, 0, 0, 0, 0, 0, 0, 0, 0, 0, 0,...  ...     (62, 61)\n",
              "646705  [[0, 0, 0, 0, 0, 0, 0, 0, 0, 0, 2, 2, 1, 1, 1,...  ...     (26, 26)\n",
              "112357  [[0, 0, 0, 0, 0, 0, 0, 0, 0, 0, 1, 1, 1, 1, 1,...  ...     (26, 26)\n",
              "\n",
              "[5 rows x 6 columns]"
            ]
          },
          "metadata": {},
          "execution_count": 4
        }
      ]
    },
    {
      "cell_type": "code",
      "metadata": {
        "id": "B3MHCsOuCCLT"
      },
      "source": [
        "# 將 failureType 和 trianTestLabel 欄位名稱改為 failureNum 和 trainTestNum \n",
        "df['failureNum'] = df.failureType\n",
        "df['trainTestNum'] = df.trianTestLabel\n",
        "# 將 failureNum 和 trainTestNum 兩個欄位內容轉為數字代碼\n",
        "mapping_type = {'Center':0,\n",
        "         'Donut':1,\n",
        "         'Edge-Loc':2,\n",
        "         'Edge-Ring':3,\n",
        "         'Loc':4,\n",
        "         'Random':5,\n",
        "         'Scratch':6,\n",
        "         'Near-full':7,\n",
        "         'none':8} # none = 無缺陷\n",
        "mapping_traintest = {'Training':0, 'Test':1}\n",
        "df = df.replace({'failureNum':mapping_type, 'trainTestNum':mapping_traintest})"
      ],
      "execution_count": 5,
      "outputs": []
    },
    {
      "cell_type": "code",
      "metadata": {
        "id": "y9647DmwCCOd"
      },
      "source": [
        "# 從原始資料取出 8 種缺陷類型的晶圓資料\n",
        "df_withpattern = df[(df['failureNum']>=0) & (df['failureNum']<=7)]\n",
        "# 重設 index\n",
        "df_withpattern = df_withpattern.reset_index()\n",
        "# 刪除後續沒有用到的欄位 dieSize 和 lotName\n",
        "df_withpattern = df_withpattern.drop(columns=['dieSize', 'lotName'])"
      ],
      "execution_count": 6,
      "outputs": []
    },
    {
      "cell_type": "code",
      "metadata": {
        "id": "xdf9VE2DCCX3",
        "colab": {
          "base_uri": "https://localhost:8080/",
          "height": 267
        },
        "outputId": "b2baddfc-4378-4d3a-c173-8990ed6850ba"
      },
      "source": [
        "# 第一張晶圓缺陷圖呈現(缺陷種類: Loc)\n",
        "plt.imshow(df_withpattern.waferMap[0])\n",
        "plt.show()"
      ],
      "execution_count": 7,
      "outputs": [
        {
          "output_type": "display_data",
          "data": {
            "image/png": "[encoded data removed]",
            "text/plain": [
              "<Figure size 432x288 with 1 Axes>"
            ]
          },
          "metadata": {
            "needs_background": "light"
          }
        }
      ]
    },
    {
      "cell_type": "code",
      "metadata": {
        "id": "uv4VLX98CKkh",
        "colab": {
          "base_uri": "https://localhost:8080/",
          "height": 267
        },
        "outputId": "503fa0ba-93cd-435c-a7a4-7d6e305f33db"
      },
      "source": [
        "# 經過中值濾波器(median filter)降噪後的第一張晶圓缺陷圖呈現\n",
        "plt.imshow(cv2.medianBlur(df_withpattern.waferMap[0], 3))\n",
        "plt.show()"
      ],
      "execution_count": 8,
      "outputs": [
        {
          "output_type": "display_data",
          "data": {
            "image/png": "[encoded data removed]",
            "text/plain": [
              "<Figure size 432x288 with 1 Axes>"
            ]
          },
          "metadata": {
            "needs_background": "light"
          }
        }
      ]
    },
    {
      "cell_type": "code",
      "metadata": {
        "id": "-CnfsE7mCNBC"
      },
      "source": [
        "# 將資料複製一份到新變數 df_labeled\n",
        "df_labeled = df_withpattern.copy()\n",
        "# 取出晶圓陣列資料\n",
        "X = df_labeled['waferMap'].values\n",
        "# 取出缺陷種類欄位的內容，並轉換為 float 32 位元型態，接著利用 to_categorical 將類別向量 y 轉換為二進位的矩陣向量(One-hot encoding 技術，以 0 和 1 區分標籤類別)\n",
        "y = np.array(df_labeled['failureNum']).astype('float32') # astype 適用於 numpy 中資料型態的轉換\n",
        "y = to_categorical(y, num_classes=8)"
      ],
      "execution_count": 9,
      "outputs": []
    },
    {
      "cell_type": "code",
      "metadata": {
        "id": "6zmSZ5rtCOVm"
      },
      "source": [
        "# 將每張圖片利用中值濾波器去除影像雜訊，並存到 X_copy\n",
        "X_copy = [ ]\n",
        "\n",
        "for i in range(X.shape[0]):\n",
        "  img = cv2.medianBlur(X[i], 3)\n",
        "  X_copy.append(img)\n",
        "\n",
        "X_copy = np.array(X_copy)"
      ],
      "execution_count": 10,
      "outputs": []
    },
    {
      "cell_type": "code",
      "metadata": {
        "id": "i87RC8grCPrp"
      },
      "source": [
        "# 將每張圖片大小設定為 64 x 64\n",
        "X_copy_v2 = np.array([cv2.resize(img, dsize=(64,64)) for img in X_copy])"
      ],
      "execution_count": 11,
      "outputs": []
    },
    {
      "cell_type": "code",
      "metadata": {
        "id": "4FiqC3VcCQ-t",
        "colab": {
          "base_uri": "https://localhost:8080/",
          "height": 268
        },
        "outputId": "c87dece1-76e3-48df-b94a-c576ac3de598"
      },
      "source": [
        "# 降噪後的晶圓缺陷圖 (種類:Loc, 大小: 64 x 64)\n",
        "plt.imshow(X_copy_v2[0])\n",
        "plt.show()"
      ],
      "execution_count": 12,
      "outputs": [
        {
          "output_type": "display_data",
          "data": {
            "image/png": "[encoded data removed]",
            "text/plain": [
              "<Figure size 432x288 with 1 Axes>"
            ]
          },
          "metadata": {
            "needs_background": "light"
          }
        }
      ]
    },
    {
      "cell_type": "code",
      "metadata": {
        "id": "Y97tqHBaCSRE"
      },
      "source": [
        "# 每張圖片轉換為三維空間大小 \n",
        "# (注意: 第三維的數值為 1，目前還不能填 3，否則會因為無法從原先 64 x 64 的維度拆解為 64 x 64 x 3而出現 error)\n",
        "X_copy_v2 = X_copy_v2.reshape((-1, 64, 64, 1))"
      ],
      "execution_count": 13,
      "outputs": []
    },
    {
      "cell_type": "code",
      "metadata": {
        "id": "F9YhtAn5CSuf"
      },
      "source": [
        "# 根據 Data Science & Business Analytics Lab, School of Industrial Management Engineering, College of Engineering, Korea University[http://dsba.korea.ac.kr/main] 的方法\n",
        "# Wafer data's each pixels have a categorical variable that express 0 : not wafer, 1 : normal, 2 : faulty.\n",
        "# Extend extra dimension with one-hot-encoded categorical data as channel.\n",
        "new_X_copy = np.zeros((len(X_copy_v2), 64, 64, 3))\n",
        "\n",
        "for w in range(len(X_copy_v2)):\n",
        "  for i in range(64):\n",
        "    for j in range(64):\n",
        "      new_X_copy[w, i, j, int(X_copy_v2[w, i, j])] = 1"
      ],
      "execution_count": 14,
      "outputs": []
    },
    {
      "cell_type": "code",
      "metadata": {
        "id": "QLKqhbM1CULg"
      },
      "source": [
        "# 轉換為 float 32 位元型態\n",
        "new_X_copy = new_X_copy.astype('float32')"
      ],
      "execution_count": 15,
      "outputs": []
    },
    {
      "cell_type": "code",
      "metadata": {
        "id": "VX6dYD1PCVZJ",
        "colab": {
          "base_uri": "https://localhost:8080/",
          "height": 268
        },
        "outputId": "d33e0143-519b-4860-9fdb-867c5d73d872"
      },
      "source": [
        "plt.imshow(new_X_copy[0])\n",
        "plt.show()"
      ],
      "execution_count": 16,
      "outputs": [
        {
          "output_type": "display_data",
          "data": {
            "image/png": "[encoded data removed]",
            "text/plain": [
              "<Figure size 432x288 with 1 Axes>"
            ]
          },
          "metadata": {
            "needs_background": "light"
          }
        }
      ]
    },
    {
      "cell_type": "code",
      "metadata": {
        "id": "aP545zIKCWZp",
        "colab": {
          "base_uri": "https://localhost:8080/",
          "height": 268
        },
        "outputId": "fc79d26f-3672-419e-96eb-ac3cf6a0078d"
      },
      "source": [
        "plt.imshow(new_X_copy[df_labeled['failureNum']==0][0])\n",
        "plt.show()"
      ],
      "execution_count": 17,
      "outputs": [
        {
          "output_type": "display_data",
          "data": {
            "image/png": "[encoded data removed]",
            "text/plain": [
              "<Figure size 432x288 with 1 Axes>"
            ]
          },
          "metadata": {
            "needs_background": "light"
          }
        }
      ]
    },
    {
      "cell_type": "code",
      "source": [
        "# 資料切割 (80% = Train, 20% = Test)\n",
        "X_train, X_test, y_train, y_test = train_test_split(new_X_copy, y, test_size=0.2, random_state=2021)"
      ],
      "metadata": {
        "id": "_hp1hgJa4nM8"
      },
      "execution_count": 19,
      "outputs": []
    },
    {
      "cell_type": "code",
      "metadata": {
        "id": "elIgn9gPCXqS"
      },
      "source": [
        "# 儲存資料\n",
        "np.savez(os.path.join(path, 'rawdata.npz'), X_train=X_train, X_test=X_test, y_train=y_train, y_test=y_test)"
      ],
      "execution_count": 20,
      "outputs": []
    }
  ]
}