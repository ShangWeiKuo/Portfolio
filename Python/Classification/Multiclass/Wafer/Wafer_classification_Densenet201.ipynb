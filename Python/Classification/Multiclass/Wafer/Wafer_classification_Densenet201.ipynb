{
  "nbformat": 4,
  "nbformat_minor": 0,
  "metadata": {
    "colab": {
      "name": "Wafer classification_Densenet201.ipynb",
      "provenance": [],
      "collapsed_sections": [],
      "mount_file_id": "1-tz-VD8dc9W5xXhiM4iSPLFeYHtqVGWr",
      "authorship_tag": "ABX9TyMymSFazTK8KcVtjmJZahEX",
      "include_colab_link": true
    },
    "kernelspec": {
      "name": "python3",
      "display_name": "Python 3"
    },
    "language_info": {
      "name": "python"
    },
    "accelerator": "GPU"
  },
  "cells": [
    {
      "cell_type": "markdown",
      "metadata": {
        "id": "view-in-github",
        "colab_type": "text"
      },
      "source": [
        "<a href=\"https://colab.research.google.com/github/ShangWeiKuo/Portfolio/blob/main/Python/Classification/Multiclass/Wafer/Wafer_classification_Densenet201.ipynb\" target=\"_parent\"><img src=\"https://colab.research.google.com/assets/colab-badge.svg\" alt=\"Open In Colab\"/></a>"
      ]
    },
    {
      "cell_type": "code",
      "metadata": {
        "colab": {
          "base_uri": "https://localhost:8080/"
        },
        "id": "LdahyymvD_IK",
        "outputId": "aae032e4-c60d-4132-a0ad-625e0781a776"
      },
      "source": [
        "!pip install scikit-plot"
      ],
      "execution_count": 1,
      "outputs": [
        {
          "output_type": "stream",
          "name": "stdout",
          "text": [
            "Collecting scikit-plot\n",
            "  Downloading scikit_plot-0.3.7-py3-none-any.whl (33 kB)\n",
            "Requirement already satisfied: scipy>=0.9 in /usr/local/lib/python3.7/dist-packages (from scikit-plot) (1.4.1)\n",
            "Requirement already satisfied: matplotlib>=1.4.0 in /usr/local/lib/python3.7/dist-packages (from scikit-plot) (3.2.2)\n",
            "Requirement already satisfied: joblib>=0.10 in /usr/local/lib/python3.7/dist-packages (from scikit-plot) (1.0.1)\n",
            "Requirement already satisfied: scikit-learn>=0.18 in /usr/local/lib/python3.7/dist-packages (from scikit-plot) (0.22.2.post1)\n",
            "Requirement already satisfied: numpy>=1.11 in /usr/local/lib/python3.7/dist-packages (from matplotlib>=1.4.0->scikit-plot) (1.19.5)\n",
            "Requirement already satisfied: pyparsing!=2.0.4,!=2.1.2,!=2.1.6,>=2.0.1 in /usr/local/lib/python3.7/dist-packages (from matplotlib>=1.4.0->scikit-plot) (2.4.7)\n",
            "Requirement already satisfied: kiwisolver>=1.0.1 in /usr/local/lib/python3.7/dist-packages (from matplotlib>=1.4.0->scikit-plot) (1.3.1)\n",
            "Requirement already satisfied: cycler>=0.10 in /usr/local/lib/python3.7/dist-packages (from matplotlib>=1.4.0->scikit-plot) (0.10.0)\n",
            "Requirement already satisfied: python-dateutil>=2.1 in /usr/local/lib/python3.7/dist-packages (from matplotlib>=1.4.0->scikit-plot) (2.8.2)\n",
            "Requirement already satisfied: six in /usr/local/lib/python3.7/dist-packages (from cycler>=0.10->matplotlib>=1.4.0->scikit-plot) (1.15.0)\n",
            "Installing collected packages: scikit-plot\n",
            "Successfully installed scikit-plot-0.3.7\n"
          ]
        }
      ]
    },
    {
      "cell_type": "code",
      "metadata": {
        "id": "QY_wZLdo_EWa",
        "colab": {
          "base_uri": "https://localhost:8080/"
        },
        "outputId": "a2076352-cef0-45f8-9db2-b6dc84c6190f"
      },
      "source": [
        "# loading libraries\n",
        "import numpy as np # linear algebra\n",
        "from numpy import argmax\n",
        "import pandas as pd # data processing, CSV file I/O (e.g. pd.read_csv)\n",
        "import tensorflow as tf\n",
        "from sklearn.model_selection import train_test_split\n",
        "import matplotlib.pyplot as plt\n",
        "import scikitplot as skplt\n",
        "%matplotlib inline \n",
        "\n",
        "from keras.utils.np_utils import to_categorical\n",
        "from keras import layers, Input, models\n",
        "from keras.models import Model, Sequential, Input, load_model\n",
        "from keras.layers import Dense, Dropout, Flatten, Conv2D, MaxPool2D, BatchNormalization, AveragePooling2D, GlobalAveragePooling2D\n",
        "from tensorflow.keras.optimizers import Adam\n",
        "from keras.preprocessing.image import ImageDataGenerator\n",
        "from keras.callbacks import ModelCheckpoint, ReduceLROnPlateau, EarlyStopping\n",
        "from tensorflow.keras.applications import DenseNet201\n",
        "from sklearn.metrics import classification_report\n",
        "\n",
        "import cv2\n",
        "from skimage import measure\n",
        "from scipy import stats\n",
        "\n",
        "import os\n",
        "# set current working directory\n",
        "path=\"/content/drive/MyDrive/wafer/\"\n",
        "os.chdir(path)\n",
        "\n",
        "print(os.listdir(path))\n",
        "\n",
        "import warnings\n",
        "warnings.filterwarnings(\"ignore\")"
      ],
      "execution_count": 2,
      "outputs": [
        {
          "output_type": "stream",
          "name": "stdout",
          "text": [
            "['LSWMD.pkl', 'wafer.zip', 'Untitled1.ipynb', 'wafer-defect-classification-by-deep-learning.ipynb', 'Wafer detection.ipynb', 'Wafer anomaly detection.ipynb', 'wafer_detection_densenet_model.h5', 'Wafer anomaly detection_AutoEncoder.ipynb', 'Wafer classification_Densenet201.ipynb', 'Wafer classification_KFold.ipynb']\n"
          ]
        }
      ]
    },
    {
      "cell_type": "code",
      "metadata": {
        "id": "n3AtLkn-_JeV",
        "colab": {
          "base_uri": "https://localhost:8080/"
        },
        "outputId": "1b518fed-5217-4ecc-982b-9ba93f0b090a"
      },
      "source": [
        "df=pd.read_pickle(\"LSWMD.pkl\")\n",
        "df.info()"
      ],
      "execution_count": 3,
      "outputs": [
        {
          "output_type": "stream",
          "name": "stdout",
          "text": [
            "<class 'pandas.core.frame.DataFrame'>\n",
            "RangeIndex: 811457 entries, 0 to 811456\n",
            "Data columns (total 6 columns):\n",
            " #   Column          Non-Null Count   Dtype  \n",
            "---  ------          --------------   -----  \n",
            " 0   waferMap        811457 non-null  object \n",
            " 1   dieSize         811457 non-null  float64\n",
            " 2   lotName         811457 non-null  object \n",
            " 3   waferIndex      811457 non-null  float64\n",
            " 4   trianTestLabel  811457 non-null  object \n",
            " 5   failureType     811457 non-null  object \n",
            "dtypes: float64(2), object(4)\n",
            "memory usage: 37.1+ MB\n"
          ]
        }
      ]
    },
    {
      "cell_type": "code",
      "metadata": {
        "id": "eUXgFuX2o1xW"
      },
      "source": [
        "df['waferIndex']\n",
        "df = df.drop(['waferIndex'], axis = 1)"
      ],
      "execution_count": 4,
      "outputs": []
    },
    {
      "cell_type": "code",
      "metadata": {
        "id": "17YDb1YUo2NI",
        "colab": {
          "base_uri": "https://localhost:8080/",
          "height": 377
        },
        "outputId": "dc1bd84e-5cf9-4325-8cff-2e505e30f86e"
      },
      "source": [
        "def find_dim(x):\n",
        "    dim0=np.size(x,axis=0)\n",
        "    dim1=np.size(x,axis=1)\n",
        "    return dim0,dim1\n",
        "df['waferMapDim']=df.waferMap.apply(find_dim)\n",
        "df.sample(5)"
      ],
      "execution_count": 5,
      "outputs": [
        {
          "output_type": "execute_result",
          "data": {
            "text/html": [
              "<div>\n",
              "<style scoped>\n",
              "    .dataframe tbody tr th:only-of-type {\n",
              "        vertical-align: middle;\n",
              "    }\n",
              "\n",
              "    .dataframe tbody tr th {\n",
              "        vertical-align: top;\n",
              "    }\n",
              "\n",
              "    .dataframe thead th {\n",
              "        text-align: right;\n",
              "    }\n",
              "</style>\n",
              "<table border=\"1\" class=\"dataframe\">\n",
              "  <thead>\n",
              "    <tr style=\"text-align: right;\">\n",
              "      <th></th>\n",
              "      <th>waferMap</th>\n",
              "      <th>dieSize</th>\n",
              "      <th>lotName</th>\n",
              "      <th>trianTestLabel</th>\n",
              "      <th>failureType</th>\n",
              "      <th>waferMapDim</th>\n",
              "    </tr>\n",
              "  </thead>\n",
              "  <tbody>\n",
              "    <tr>\n",
              "      <th>556999</th>\n",
              "      <td>[[0, 0, 0, 0, 0, 0, 0, 0, 0, 0, 0, 0, 0, 0, 1,...</td>\n",
              "      <td>733.0</td>\n",
              "      <td>lot34967</td>\n",
              "      <td>[]</td>\n",
              "      <td>[]</td>\n",
              "      <td>(31, 31)</td>\n",
              "    </tr>\n",
              "    <tr>\n",
              "      <th>402832</th>\n",
              "      <td>[[0, 0, 0, 0, 0, 0, 0, 0, 0, 0, 0, 0, 0, 1, 2,...</td>\n",
              "      <td>811.0</td>\n",
              "      <td>lot24134</td>\n",
              "      <td>[]</td>\n",
              "      <td>[]</td>\n",
              "      <td>(34, 31)</td>\n",
              "    </tr>\n",
              "    <tr>\n",
              "      <th>210768</th>\n",
              "      <td>[[0, 0, 0, 0, 0, 0, 0, 0, 0, 0, 0, 0, 0, 0, 0,...</td>\n",
              "      <td>14116.0</td>\n",
              "      <td>lot13454</td>\n",
              "      <td>[]</td>\n",
              "      <td>[]</td>\n",
              "      <td>(212, 84)</td>\n",
              "    </tr>\n",
              "    <tr>\n",
              "      <th>82878</th>\n",
              "      <td>[[0, 0, 0, 0, 0, 0, 0, 0, 0, 0, 0, 0, 0, 0, 0,...</td>\n",
              "      <td>4188.0</td>\n",
              "      <td>lot5920</td>\n",
              "      <td>[]</td>\n",
              "      <td>[]</td>\n",
              "      <td>(76, 71)</td>\n",
              "    </tr>\n",
              "    <tr>\n",
              "      <th>548018</th>\n",
              "      <td>[[0, 0, 0, 0, 0, 0, 0, 0, 0, 0, 0, 0, 0, 0, 0,...</td>\n",
              "      <td>1513.0</td>\n",
              "      <td>lot34314</td>\n",
              "      <td>[]</td>\n",
              "      <td>[]</td>\n",
              "      <td>(49, 39)</td>\n",
              "    </tr>\n",
              "  </tbody>\n",
              "</table>\n",
              "</div>"
            ],
            "text/plain": [
              "                                                 waferMap  ...  waferMapDim\n",
              "556999  [[0, 0, 0, 0, 0, 0, 0, 0, 0, 0, 0, 0, 0, 0, 1,...  ...     (31, 31)\n",
              "402832  [[0, 0, 0, 0, 0, 0, 0, 0, 0, 0, 0, 0, 0, 1, 2,...  ...     (34, 31)\n",
              "210768  [[0, 0, 0, 0, 0, 0, 0, 0, 0, 0, 0, 0, 0, 0, 0,...  ...    (212, 84)\n",
              "82878   [[0, 0, 0, 0, 0, 0, 0, 0, 0, 0, 0, 0, 0, 0, 0,...  ...     (76, 71)\n",
              "548018  [[0, 0, 0, 0, 0, 0, 0, 0, 0, 0, 0, 0, 0, 0, 0,...  ...     (49, 39)\n",
              "\n",
              "[5 rows x 6 columns]"
            ]
          },
          "metadata": {},
          "execution_count": 5
        }
      ]
    },
    {
      "cell_type": "code",
      "metadata": {
        "id": "b8eC9hVyo9x_"
      },
      "source": [
        "df['failureNum']=df.failureType\n",
        "df['trainTestNum']=df.trianTestLabel\n",
        "mapping_type={'Center':0,'Donut':1,'Edge-Loc':2,'Edge-Ring':3,'Loc':4,'Random':5,'Scratch':6,'Near-full':7,'none':8}\n",
        "mapping_traintest={'Training':0,'Test':1}\n",
        "df=df.replace({'failureNum':mapping_type, 'trainTestNum':mapping_traintest})"
      ],
      "execution_count": 6,
      "outputs": []
    },
    {
      "cell_type": "code",
      "metadata": {
        "id": "bSGIdtYIOOiq"
      },
      "source": [
        "df_withpattern = df[(df['failureNum']>=0) & (df['failureNum']<=7)]\n",
        "df_withpattern = df_withpattern.reset_index()\n",
        "df_withpattern = df_withpattern.drop(columns=['dieSize', 'lotName'])"
      ],
      "execution_count": 7,
      "outputs": []
    },
    {
      "cell_type": "code",
      "metadata": {
        "id": "1jTvNxgxhaKE",
        "colab": {
          "base_uri": "https://localhost:8080/",
          "height": 267
        },
        "outputId": "6fff7c1d-08c4-4111-e219-18a208749031"
      },
      "source": [
        "plt.imshow(df_withpattern.waferMap[0])\n",
        "plt.show()"
      ],
      "execution_count": 8,
      "outputs": [
        {
          "output_type": "display_data",
          "data": {
            "image/png": "[encoded data removed]",
            "text/plain": [
              "<Figure size 432x288 with 1 Axes>"
            ]
          },
          "metadata": {
            "needs_background": "light"
          }
        }
      ]
    },
    {
      "cell_type": "code",
      "metadata": {
        "id": "7kW8omZXulz-"
      },
      "source": [
        "train_set = df_withpattern[df_withpattern['trianTestLabel'] == 'Training']\n",
        "X_train = train_set['waferMap'].values\n",
        "y_train = np.array(train_set['failureNum']).astype('float32')\n",
        "y_train = to_categorical(y_train, num_classes=8)"
      ],
      "execution_count": 9,
      "outputs": []
    },
    {
      "cell_type": "code",
      "metadata": {
        "id": "SJI3W0MZM8cv"
      },
      "source": [
        "X_train = train_set['waferMap']\n",
        "y_train = np.array(train_set['failureNum']).astype('float32')\n",
        "y_train = to_categorical(y_train, num_classes=8)"
      ],
      "execution_count": 10,
      "outputs": []
    },
    {
      "cell_type": "code",
      "metadata": {
        "id": "80aj-Fl9Tn06"
      },
      "source": [
        "X_train = np.array([cv2.resize(img, dsize=(32,32)) for img in X_train])"
      ],
      "execution_count": 11,
      "outputs": []
    },
    {
      "cell_type": "code",
      "metadata": {
        "colab": {
          "base_uri": "https://localhost:8080/",
          "height": 266
        },
        "id": "FIUn3nsmNwEC",
        "outputId": "6226aa59-315c-4912-e772-d509734bc8a5"
      },
      "source": [
        "plt.imshow(X_train[0])\n",
        "plt.show()"
      ],
      "execution_count": 12,
      "outputs": [
        {
          "output_type": "display_data",
          "data": {
            "image/png": "[encoded data removed]",
            "text/plain": [
              "<Figure size 432x288 with 1 Axes>"
            ]
          },
          "metadata": {
            "needs_background": "light"
          }
        }
      ]
    },
    {
      "cell_type": "code",
      "metadata": {
        "colab": {
          "base_uri": "https://localhost:8080/",
          "height": 266
        },
        "id": "YH8CQfp6NvW-",
        "outputId": "284b06f8-cbc5-47e4-af21-2e1239180a85"
      },
      "source": [
        "plt.imshow(cv2.medianBlur(X_train[0], 3))\n",
        "plt.show()"
      ],
      "execution_count": 13,
      "outputs": [
        {
          "output_type": "display_data",
          "data": {
            "image/png": "[encoded data removed]",
            "text/plain": [
              "<Figure size 432x288 with 1 Axes>"
            ]
          },
          "metadata": {
            "needs_background": "light"
          }
        }
      ]
    },
    {
      "cell_type": "code",
      "metadata": {
        "id": "rOH1OBNGE-c_"
      },
      "source": [
        "X_train = X_train.reshape((-1, 32, 32, 1))"
      ],
      "execution_count": 14,
      "outputs": []
    },
    {
      "cell_type": "code",
      "metadata": {
        "id": "s23MjN3hw7ve"
      },
      "source": [
        "new_X_train = np.zeros((len(X_train), 32, 32, 3))\n",
        "\n",
        "for w in range(len(X_train)):\n",
        "    for i in range(32):\n",
        "        for j in range(32):\n",
        "            new_X_train[w, i, j, int(X_train[w, i, j])] = 1"
      ],
      "execution_count": 15,
      "outputs": []
    },
    {
      "cell_type": "code",
      "metadata": {
        "id": "6wncfJtkBlu5"
      },
      "source": [
        "# Conversion to float\n",
        "new_X_train = new_X_train.astype('float32')\n",
        "# X_test = X_test.astype('float32')"
      ],
      "execution_count": 16,
      "outputs": []
    },
    {
      "cell_type": "code",
      "metadata": {
        "colab": {
          "base_uri": "https://localhost:8080/",
          "height": 266
        },
        "id": "NPka1VfbDlnK",
        "outputId": "2f91f896-0f79-416e-977a-11edfa880ba2"
      },
      "source": [
        "plt.imshow(new_X_train[0])\n",
        "plt.show()"
      ],
      "execution_count": 17,
      "outputs": [
        {
          "output_type": "display_data",
          "data": {
            "image/png": "[encoded data removed]",
            "text/plain": [
              "<Figure size 432x288 with 1 Axes>"
            ]
          },
          "metadata": {
            "needs_background": "light"
          }
        }
      ]
    },
    {
      "cell_type": "code",
      "metadata": {
        "colab": {
          "base_uri": "https://localhost:8080/",
          "height": 266
        },
        "id": "d7sVMnaLPh-j",
        "outputId": "37bbde61-09c4-490a-eb6b-c251ba8c6ef9"
      },
      "source": [
        "plt.imshow(cv2.medianBlur(new_X_train[0], 3))\n",
        "plt.show()"
      ],
      "execution_count": 18,
      "outputs": [
        {
          "output_type": "display_data",
          "data": {
            "image/png": "[encoded data removed]",
            "text/plain": [
              "<Figure size 432x288 with 1 Axes>"
            ]
          },
          "metadata": {
            "needs_background": "light"
          }
        }
      ]
    },
    {
      "cell_type": "code",
      "metadata": {
        "colab": {
          "base_uri": "https://localhost:8080/",
          "height": 266
        },
        "id": "NrFUemiUDsle",
        "outputId": "628e7304-a28e-4572-ab68-6fe9e96aa785"
      },
      "source": [
        "plt.imshow(new_X_train[train_set['failureNum']==0][0])\n",
        "plt.show()"
      ],
      "execution_count": 19,
      "outputs": [
        {
          "output_type": "display_data",
          "data": {
            "image/png": "[encoded data removed]",
            "text/plain": [
              "<Figure size 432x288 with 1 Axes>"
            ]
          },
          "metadata": {
            "needs_background": "light"
          }
        }
      ]
    },
    {
      "cell_type": "code",
      "metadata": {
        "colab": {
          "base_uri": "https://localhost:8080/",
          "height": 266
        },
        "id": "EgLxz2n0Prki",
        "outputId": "e8870164-a34c-4bf0-ee9f-0734f70ebc27"
      },
      "source": [
        "plt.imshow(cv2.medianBlur(new_X_train[train_set['failureNum']==0][0], 3))\n",
        "plt.show()"
      ],
      "execution_count": 20,
      "outputs": [
        {
          "output_type": "display_data",
          "data": {
            "image/png": "[encoded data removed]",
            "text/plain": [
              "<Figure size 432x288 with 1 Axes>"
            ]
          },
          "metadata": {
            "needs_background": "light"
          }
        }
      ]
    },
    {
      "cell_type": "code",
      "metadata": {
        "id": "IAfOE7sLU6PR"
      },
      "source": [
        "X_train_copy = [ ]\n",
        "\n",
        "for i in range(new_X_train.shape[0]):\n",
        "  img = cv2.medianBlur(new_X_train[i], 3)\n",
        "  X_train_copy.append(img)\n",
        "\n",
        "X_train_copy = np.array(X_train_copy)"
      ],
      "execution_count": 21,
      "outputs": []
    },
    {
      "cell_type": "code",
      "metadata": {
        "colab": {
          "base_uri": "https://localhost:8080/",
          "height": 266
        },
        "id": "SZtmYKzjXqzE",
        "outputId": "8a49d0ed-2b66-49ca-e988-8f85d913e85d"
      },
      "source": [
        "plt.imshow(X_train_copy[0])\n",
        "plt.show()"
      ],
      "execution_count": 22,
      "outputs": [
        {
          "output_type": "display_data",
          "data": {
            "image/png": "[encoded data removed]",
            "text/plain": [
              "<Figure size 432x288 with 1 Axes>"
            ]
          },
          "metadata": {
            "needs_background": "light"
          }
        }
      ]
    },
    {
      "cell_type": "code",
      "metadata": {
        "colab": {
          "base_uri": "https://localhost:8080/",
          "height": 266
        },
        "id": "43ZpvqbuVO8z",
        "outputId": "917428a3-1298-458b-f339-bbd99652b248"
      },
      "source": [
        "plt.imshow(X_train_copy[train_set['failureNum']==0][0])\n",
        "plt.show()"
      ],
      "execution_count": 23,
      "outputs": [
        {
          "output_type": "display_data",
          "data": {
            "image/png": "[encoded data removed]",
            "text/plain": [
              "<Figure size 432x288 with 1 Axes>"
            ]
          },
          "metadata": {
            "needs_background": "light"
          }
        }
      ]
    },
    {
      "cell_type": "code",
      "metadata": {
        "id": "OecM7mxT2Tu0"
      },
      "source": [
        "X_train, X_val, y_train, y_val = train_test_split(X_train_copy, y_train, test_size=0.2, random_state=2021)"
      ],
      "execution_count": 24,
      "outputs": []
    },
    {
      "cell_type": "code",
      "metadata": {
        "id": "VNkWUBzMZ42t"
      },
      "source": [
        "def build_densenet():\n",
        "    densenet = DenseNet201(weights='imagenet', include_top=False)\n",
        "\n",
        "    input = Input(shape=(32, 32, 3))\n",
        "    x = Conv2D(3, (3, 3), padding='same')(input)\n",
        "    \n",
        "    x = densenet(x)\n",
        "    \n",
        "    x = GlobalAveragePooling2D()(x)\n",
        "    x = BatchNormalization()(x)\n",
        "    x = Dropout(0.5)(x)\n",
        "    x = Dense(256, activation='relu')(x)\n",
        "    x = BatchNormalization()(x)\n",
        "    x = Dropout(0.5)(x)\n",
        "\n",
        "    # multi output\n",
        "    output = Dense(8, activation = 'softmax')(x)\n",
        " \n",
        "    # model\n",
        "    model = Model(input,output)\n",
        "    \n",
        "    optimizer = Adam(lr=0.0001, beta_1=0.9, beta_2=0.999, epsilon=0.1, decay=0.001)\n",
        "    model.compile(loss='categorical_crossentropy', optimizer=optimizer, metrics=['accuracy'])\n",
        "    model.summary()\n",
        "    \n",
        "    return model"
      ],
      "execution_count": 25,
      "outputs": []
    },
    {
      "cell_type": "code",
      "metadata": {
        "id": "wrfRNLZdX6JA",
        "colab": {
          "base_uri": "https://localhost:8080/"
        },
        "outputId": "c7dc9ba8-b59b-49eb-ccd3-59aea1b8818d"
      },
      "source": [
        "model = build_densenet()\n",
        "Reduce = ReduceLROnPlateau(monitor='val_accuracy', factor=0.5, patience=5, verbose=1, min_lr=1e-3)\n",
        "es = EarlyStopping(monitor='val_accuracy', mode='auto', verbose=1, patience=10)\n",
        "checkpoint = ModelCheckpoint('wafer_detection_densenet_model.h5', verbose=1, save_best_only=True)\n",
        "\n",
        "History = model.fit(X_train, y_train, \n",
        "            epochs=50, \n",
        "            batch_size=32,\n",
        "            verbose=2,\n",
        "            callbacks=[Reduce, es, checkpoint],\n",
        "            validation_data=(X_val, y_val), \n",
        "            workers=8)"
      ],
      "execution_count": 26,
      "outputs": [
        {
          "output_type": "stream",
          "name": "stdout",
          "text": [
            "Downloading data from https://storage.googleapis.com/tensorflow/keras-applications/densenet/densenet201_weights_tf_dim_ordering_tf_kernels_notop.h5\n",
            "74842112/74836368 [==============================] - 1s 0us/step\n",
            "74850304/74836368 [==============================] - 1s 0us/step\n",
            "Model: \"model\"\n",
            "_________________________________________________________________\n",
            "Layer (type)                 Output Shape              Param #   \n",
            "=================================================================\n",
            "input_2 (InputLayer)         [(None, 32, 32, 3)]       0         \n",
            "_________________________________________________________________\n",
            "conv2d (Conv2D)              (None, 32, 32, 3)         84        \n",
            "_________________________________________________________________\n",
            "densenet201 (Functional)     (None, None, None, 1920)  18321984  \n",
            "_________________________________________________________________\n",
            "global_average_pooling2d (Gl (None, 1920)              0         \n",
            "_________________________________________________________________\n",
            "batch_normalization (BatchNo (None, 1920)              7680      \n",
            "_________________________________________________________________\n",
            "dropout (Dropout)            (None, 1920)              0         \n",
            "_________________________________________________________________\n",
            "dense (Dense)                (None, 256)               491776    \n",
            "_________________________________________________________________\n",
            "batch_normalization_1 (Batch (None, 256)               1024      \n",
            "_________________________________________________________________\n",
            "dropout_1 (Dropout)          (None, 256)               0         \n",
            "_________________________________________________________________\n",
            "dense_1 (Dense)              (None, 8)                 2056      \n",
            "=================================================================\n",
            "Total params: 18,824,604\n",
            "Trainable params: 18,591,196\n",
            "Non-trainable params: 233,408\n",
            "_________________________________________________________________\n",
            "Epoch 1/50\n",
            "441/441 - 133s - loss: 1.8391 - accuracy: 0.4769 - val_loss: 0.9110 - val_accuracy: 0.7245\n",
            "\n",
            "Epoch 00001: val_loss improved from inf to 0.91103, saving model to wafer_detection_densenet_model.h5\n",
            "Epoch 2/50\n",
            "441/441 - 72s - loss: 0.9201 - accuracy: 0.7401 - val_loss: 0.4668 - val_accuracy: 0.8559\n",
            "\n",
            "Epoch 00002: val_loss improved from 0.91103 to 0.46683, saving model to wafer_detection_densenet_model.h5\n",
            "Epoch 3/50\n",
            "441/441 - 68s - loss: 0.6854 - accuracy: 0.7999 - val_loss: 0.3539 - val_accuracy: 0.8848\n",
            "\n",
            "Epoch 00003: val_loss improved from 0.46683 to 0.35385, saving model to wafer_detection_densenet_model.h5\n",
            "Epoch 4/50\n",
            "441/441 - 68s - loss: 0.5864 - accuracy: 0.8277 - val_loss: 0.3191 - val_accuracy: 0.8956\n",
            "\n",
            "Epoch 00004: val_loss improved from 0.35385 to 0.31909, saving model to wafer_detection_densenet_model.h5\n",
            "Epoch 5/50\n",
            "441/441 - 68s - loss: 0.5185 - accuracy: 0.8470 - val_loss: 0.3087 - val_accuracy: 0.8970\n",
            "\n",
            "Epoch 00005: val_loss improved from 0.31909 to 0.30868, saving model to wafer_detection_densenet_model.h5\n",
            "Epoch 6/50\n",
            "441/441 - 68s - loss: 0.4856 - accuracy: 0.8522 - val_loss: 0.2853 - val_accuracy: 0.9078\n",
            "\n",
            "Epoch 00006: val_loss improved from 0.30868 to 0.28529, saving model to wafer_detection_densenet_model.h5\n",
            "Epoch 7/50\n",
            "441/441 - 71s - loss: 0.4558 - accuracy: 0.8619 - val_loss: 0.2776 - val_accuracy: 0.9132\n",
            "\n",
            "Epoch 00007: val_loss improved from 0.28529 to 0.27758, saving model to wafer_detection_densenet_model.h5\n",
            "Epoch 8/50\n",
            "441/441 - 66s - loss: 0.4322 - accuracy: 0.8735 - val_loss: 0.2667 - val_accuracy: 0.9197\n",
            "\n",
            "Epoch 00008: val_loss improved from 0.27758 to 0.26673, saving model to wafer_detection_densenet_model.h5\n",
            "Epoch 9/50\n",
            "441/441 - 71s - loss: 0.4196 - accuracy: 0.8725 - val_loss: 0.2634 - val_accuracy: 0.9174\n",
            "\n",
            "Epoch 00009: val_loss improved from 0.26673 to 0.26338, saving model to wafer_detection_densenet_model.h5\n",
            "Epoch 10/50\n",
            "441/441 - 71s - loss: 0.3914 - accuracy: 0.8792 - val_loss: 0.2578 - val_accuracy: 0.9194\n",
            "\n",
            "Epoch 00010: val_loss improved from 0.26338 to 0.25781, saving model to wafer_detection_densenet_model.h5\n",
            "Epoch 11/50\n",
            "441/441 - 68s - loss: 0.3876 - accuracy: 0.8835 - val_loss: 0.2528 - val_accuracy: 0.9217\n",
            "\n",
            "Epoch 00011: val_loss improved from 0.25781 to 0.25277, saving model to wafer_detection_densenet_model.h5\n",
            "Epoch 12/50\n",
            "441/441 - 72s - loss: 0.3680 - accuracy: 0.8855 - val_loss: 0.2480 - val_accuracy: 0.9231\n",
            "\n",
            "Epoch 00012: val_loss improved from 0.25277 to 0.24804, saving model to wafer_detection_densenet_model.h5\n",
            "Epoch 13/50\n",
            "441/441 - 67s - loss: 0.3575 - accuracy: 0.8926 - val_loss: 0.2440 - val_accuracy: 0.9265\n",
            "\n",
            "Epoch 00013: val_loss improved from 0.24804 to 0.24401, saving model to wafer_detection_densenet_model.h5\n",
            "Epoch 14/50\n",
            "441/441 - 72s - loss: 0.3460 - accuracy: 0.8906 - val_loss: 0.2442 - val_accuracy: 0.9268\n",
            "\n",
            "Epoch 00014: val_loss did not improve from 0.24401\n",
            "Epoch 15/50\n",
            "441/441 - 66s - loss: 0.3419 - accuracy: 0.8938 - val_loss: 0.2421 - val_accuracy: 0.9260\n",
            "\n",
            "Epoch 00015: val_loss improved from 0.24401 to 0.24211, saving model to wafer_detection_densenet_model.h5\n",
            "Epoch 16/50\n",
            "441/441 - 67s - loss: 0.3256 - accuracy: 0.8991 - val_loss: 0.2381 - val_accuracy: 0.9274\n",
            "\n",
            "Epoch 00016: val_loss improved from 0.24211 to 0.23807, saving model to wafer_detection_densenet_model.h5\n",
            "Epoch 17/50\n",
            "441/441 - 72s - loss: 0.3180 - accuracy: 0.9023 - val_loss: 0.2364 - val_accuracy: 0.9282\n",
            "\n",
            "Epoch 00017: val_loss improved from 0.23807 to 0.23639, saving model to wafer_detection_densenet_model.h5\n",
            "Epoch 18/50\n",
            "441/441 - 67s - loss: 0.3146 - accuracy: 0.9012 - val_loss: 0.2349 - val_accuracy: 0.9294\n",
            "\n",
            "Epoch 00018: val_loss improved from 0.23639 to 0.23495, saving model to wafer_detection_densenet_model.h5\n",
            "Epoch 19/50\n",
            "441/441 - 71s - loss: 0.3125 - accuracy: 0.9054 - val_loss: 0.2336 - val_accuracy: 0.9302\n",
            "\n",
            "Epoch 00019: val_loss improved from 0.23495 to 0.23364, saving model to wafer_detection_densenet_model.h5\n",
            "Epoch 20/50\n",
            "441/441 - 67s - loss: 0.2944 - accuracy: 0.9086 - val_loss: 0.2315 - val_accuracy: 0.9296\n",
            "\n",
            "Epoch 00020: val_loss improved from 0.23364 to 0.23149, saving model to wafer_detection_densenet_model.h5\n",
            "Epoch 21/50\n",
            "441/441 - 67s - loss: 0.3018 - accuracy: 0.9057 - val_loss: 0.2292 - val_accuracy: 0.9308\n",
            "\n",
            "Epoch 00021: val_loss improved from 0.23149 to 0.22925, saving model to wafer_detection_densenet_model.h5\n",
            "Epoch 22/50\n",
            "441/441 - 71s - loss: 0.2928 - accuracy: 0.9084 - val_loss: 0.2278 - val_accuracy: 0.9330\n",
            "\n",
            "Epoch 00022: val_loss improved from 0.22925 to 0.22780, saving model to wafer_detection_densenet_model.h5\n",
            "Epoch 23/50\n",
            "441/441 - 67s - loss: 0.2930 - accuracy: 0.9108 - val_loss: 0.2278 - val_accuracy: 0.9322\n",
            "\n",
            "Epoch 00023: val_loss improved from 0.22780 to 0.22776, saving model to wafer_detection_densenet_model.h5\n",
            "Epoch 24/50\n",
            "441/441 - 67s - loss: 0.2769 - accuracy: 0.9130 - val_loss: 0.2276 - val_accuracy: 0.9319\n",
            "\n",
            "Epoch 00024: val_loss improved from 0.22776 to 0.22758, saving model to wafer_detection_densenet_model.h5\n",
            "Epoch 25/50\n",
            "441/441 - 71s - loss: 0.2766 - accuracy: 0.9164 - val_loss: 0.2264 - val_accuracy: 0.9325\n",
            "\n",
            "Epoch 00025: val_loss improved from 0.22758 to 0.22644, saving model to wafer_detection_densenet_model.h5\n",
            "Epoch 26/50\n",
            "441/441 - 71s - loss: 0.2770 - accuracy: 0.9123 - val_loss: 0.2255 - val_accuracy: 0.9333\n",
            "\n",
            "Epoch 00026: val_loss improved from 0.22644 to 0.22551, saving model to wafer_detection_densenet_model.h5\n",
            "Epoch 27/50\n",
            "441/441 - 71s - loss: 0.2690 - accuracy: 0.9165 - val_loss: 0.2239 - val_accuracy: 0.9322\n",
            "\n",
            "Epoch 00027: val_loss improved from 0.22551 to 0.22386, saving model to wafer_detection_densenet_model.h5\n",
            "Epoch 28/50\n",
            "441/441 - 67s - loss: 0.2700 - accuracy: 0.9149 - val_loss: 0.2221 - val_accuracy: 0.9322\n",
            "\n",
            "Epoch 00028: val_loss improved from 0.22386 to 0.22208, saving model to wafer_detection_densenet_model.h5\n",
            "Epoch 29/50\n",
            "441/441 - 67s - loss: 0.2658 - accuracy: 0.9179 - val_loss: 0.2218 - val_accuracy: 0.9345\n",
            "\n",
            "Epoch 00029: val_loss improved from 0.22208 to 0.22180, saving model to wafer_detection_densenet_model.h5\n",
            "Epoch 30/50\n",
            "441/441 - 67s - loss: 0.2595 - accuracy: 0.9185 - val_loss: 0.2213 - val_accuracy: 0.9339\n",
            "\n",
            "Epoch 00030: val_loss improved from 0.22180 to 0.22133, saving model to wafer_detection_densenet_model.h5\n",
            "Epoch 31/50\n",
            "441/441 - 71s - loss: 0.2665 - accuracy: 0.9182 - val_loss: 0.2207 - val_accuracy: 0.9345\n",
            "\n",
            "Epoch 00031: val_loss improved from 0.22133 to 0.22067, saving model to wafer_detection_densenet_model.h5\n",
            "Epoch 32/50\n",
            "441/441 - 71s - loss: 0.2493 - accuracy: 0.9200 - val_loss: 0.2200 - val_accuracy: 0.9353\n",
            "\n",
            "Epoch 00032: val_loss improved from 0.22067 to 0.22004, saving model to wafer_detection_densenet_model.h5\n",
            "Epoch 33/50\n",
            "441/441 - 67s - loss: 0.2527 - accuracy: 0.9191 - val_loss: 0.2211 - val_accuracy: 0.9365\n",
            "\n",
            "Epoch 00033: val_loss did not improve from 0.22004\n",
            "Epoch 34/50\n",
            "441/441 - 71s - loss: 0.2518 - accuracy: 0.9203 - val_loss: 0.2208 - val_accuracy: 0.9345\n",
            "\n",
            "Epoch 00034: val_loss did not improve from 0.22004\n",
            "Epoch 35/50\n",
            "441/441 - 71s - loss: 0.2489 - accuracy: 0.9224 - val_loss: 0.2205 - val_accuracy: 0.9353\n",
            "\n",
            "Epoch 00035: val_loss did not improve from 0.22004\n",
            "Epoch 36/50\n",
            "441/441 - 67s - loss: 0.2483 - accuracy: 0.9216 - val_loss: 0.2216 - val_accuracy: 0.9367\n",
            "\n",
            "Epoch 00036: val_loss did not improve from 0.22004\n",
            "Epoch 37/50\n",
            "441/441 - 71s - loss: 0.2424 - accuracy: 0.9235 - val_loss: 0.2198 - val_accuracy: 0.9362\n",
            "\n",
            "Epoch 00037: val_loss improved from 0.22004 to 0.21979, saving model to wafer_detection_densenet_model.h5\n",
            "Epoch 38/50\n",
            "441/441 - 67s - loss: 0.2356 - accuracy: 0.9265 - val_loss: 0.2204 - val_accuracy: 0.9365\n",
            "\n",
            "Epoch 00038: val_loss did not improve from 0.21979\n",
            "Epoch 39/50\n",
            "441/441 - 71s - loss: 0.2432 - accuracy: 0.9228 - val_loss: 0.2206 - val_accuracy: 0.9339\n",
            "\n",
            "Epoch 00039: val_loss did not improve from 0.21979\n",
            "Epoch 40/50\n",
            "441/441 - 67s - loss: 0.2473 - accuracy: 0.9225 - val_loss: 0.2190 - val_accuracy: 0.9367\n",
            "\n",
            "Epoch 00040: val_loss improved from 0.21979 to 0.21898, saving model to wafer_detection_densenet_model.h5\n",
            "Epoch 41/50\n",
            "441/441 - 68s - loss: 0.2466 - accuracy: 0.9242 - val_loss: 0.2183 - val_accuracy: 0.9362\n",
            "\n",
            "Epoch 00041: val_loss improved from 0.21898 to 0.21829, saving model to wafer_detection_densenet_model.h5\n",
            "Epoch 42/50\n",
            "441/441 - 68s - loss: 0.2369 - accuracy: 0.9262 - val_loss: 0.2170 - val_accuracy: 0.9370\n",
            "\n",
            "Epoch 00042: val_loss improved from 0.21829 to 0.21699, saving model to wafer_detection_densenet_model.h5\n",
            "Epoch 43/50\n",
            "441/441 - 67s - loss: 0.2313 - accuracy: 0.9280 - val_loss: 0.2179 - val_accuracy: 0.9367\n",
            "\n",
            "Epoch 00043: val_loss did not improve from 0.21699\n",
            "Epoch 44/50\n",
            "441/441 - 71s - loss: 0.2245 - accuracy: 0.9276 - val_loss: 0.2192 - val_accuracy: 0.9379\n",
            "\n",
            "Epoch 00044: val_loss did not improve from 0.21699\n",
            "Epoch 45/50\n",
            "441/441 - 71s - loss: 0.2320 - accuracy: 0.9263 - val_loss: 0.2174 - val_accuracy: 0.9379\n",
            "\n",
            "Epoch 00045: val_loss did not improve from 0.21699\n",
            "Epoch 46/50\n",
            "441/441 - 70s - loss: 0.2295 - accuracy: 0.9282 - val_loss: 0.2179 - val_accuracy: 0.9379\n",
            "\n",
            "Epoch 00046: val_loss did not improve from 0.21699\n",
            "Epoch 47/50\n",
            "441/441 - 68s - loss: 0.2225 - accuracy: 0.9282 - val_loss: 0.2170 - val_accuracy: 0.9379\n",
            "\n",
            "Epoch 00047: val_loss did not improve from 0.21699\n",
            "Epoch 48/50\n",
            "441/441 - 67s - loss: 0.2307 - accuracy: 0.9261 - val_loss: 0.2167 - val_accuracy: 0.9393\n",
            "\n",
            "Epoch 00048: val_loss improved from 0.21699 to 0.21668, saving model to wafer_detection_densenet_model.h5\n",
            "Epoch 49/50\n",
            "441/441 - 68s - loss: 0.2181 - accuracy: 0.9291 - val_loss: 0.2161 - val_accuracy: 0.9396\n",
            "\n",
            "Epoch 00049: val_loss improved from 0.21668 to 0.21607, saving model to wafer_detection_densenet_model.h5\n",
            "Epoch 50/50\n",
            "441/441 - 73s - loss: 0.2160 - accuracy: 0.9294 - val_loss: 0.2168 - val_accuracy: 0.9387\n",
            "\n",
            "Epoch 00050: val_loss did not improve from 0.21607\n"
          ]
        }
      ]
    },
    {
      "cell_type": "code",
      "metadata": {
        "id": "tFkDn-CKhVGL",
        "colab": {
          "base_uri": "https://localhost:8080/"
        },
        "outputId": "749784dc-37ad-4b71-b864-bb8354ba2c85"
      },
      "source": [
        "score = model.evaluate(X_val, y_val)\n",
        "print('Testing Accuracy:',score[1])"
      ],
      "execution_count": 27,
      "outputs": [
        {
          "output_type": "stream",
          "name": "stdout",
          "text": [
            "111/111 [==============================] - 7s 63ms/step - loss: 0.2168 - accuracy: 0.9387\n",
            "Testing Accuracy: 0.9387233853340149\n"
          ]
        }
      ]
    },
    {
      "cell_type": "code",
      "metadata": {
        "id": "RIfs_LRHh5wR"
      },
      "source": [
        "predictions = model.predict(X_val)\n",
        "predictions = np.argmax(predictions > 0.5, axis=1)"
      ],
      "execution_count": 36,
      "outputs": []
    },
    {
      "cell_type": "code",
      "metadata": {
        "id": "Ql93vqTUjmz7"
      },
      "source": [
        "# from numpy import argmax\n",
        "# true = np.array([np.argmax(y, axis=None, out=None) for y in y_val])\n",
        "true = np.argmax(y_val, axis=1)"
      ],
      "execution_count": 29,
      "outputs": []
    },
    {
      "cell_type": "code",
      "metadata": {
        "colab": {
          "base_uri": "https://localhost:8080/"
        },
        "id": "ff-Afk0oC0cQ",
        "outputId": "f0aa10ec-3c5f-40f3-c2b8-c7b0b573c61e"
      },
      "source": [
        "# Confusion Matrix\n",
        "print(classification_report(true, predictions))"
      ],
      "execution_count": 31,
      "outputs": [
        {
          "output_type": "stream",
          "name": "stdout",
          "text": [
            "              precision    recall  f1-score   support\n",
            "\n",
            "           0       0.89      0.98      0.93       724\n",
            "           1       0.93      0.78      0.85        73\n",
            "           2       0.88      0.87      0.87       477\n",
            "           3       0.98      0.99      0.98      1709\n",
            "           4       0.83      0.83      0.83       310\n",
            "           5       0.93      0.87      0.90       116\n",
            "           6       0.78      0.38      0.51       105\n",
            "           7       0.67      0.91      0.77        11\n",
            "\n",
            "    accuracy                           0.93      3525\n",
            "   macro avg       0.86      0.83      0.83      3525\n",
            "weighted avg       0.93      0.93      0.92      3525\n",
            "\n"
          ]
        }
      ]
    },
    {
      "cell_type": "code",
      "metadata": {
        "id": "IkJEhcgghaIm",
        "colab": {
          "base_uri": "https://localhost:8080/",
          "height": 573
        },
        "outputId": "8243dd28-728e-4420-b818-17fbc3e508ce"
      },
      "source": [
        "# accuracy plot \n",
        "plt.plot(History.history['accuracy'])\n",
        "plt.plot(History.history['val_accuracy'])\n",
        "plt.title('model accuracy')\n",
        "plt.ylabel('accuracy')\n",
        "plt.xlabel('epoch')\n",
        "plt.legend(['train', 'test'], loc='upper left')\n",
        "plt.show()\n",
        "\n",
        "# loss plot\n",
        "plt.plot(History.history['loss'])\n",
        "plt.plot(History.history['val_loss'])\n",
        "plt.title('model loss')\n",
        "plt.ylabel('loss')\n",
        "plt.xlabel('epoch')\n",
        "plt.legend(['train', 'test'], loc='upper left')\n",
        "plt.show()"
      ],
      "execution_count": 32,
      "outputs": [
        {
          "output_type": "display_data",
          "data": {
            "image/png": "[encoded data removed]",
            "text/plain": [
              "<Figure size 432x288 with 1 Axes>"
            ]
          },
          "metadata": {
            "needs_background": "light"
          }
        },
        {
          "output_type": "display_data",
          "data": {
            "image/png": "[encoded data removed]",
            "text/plain": [
              "<Figure size 432x288 with 1 Axes>"
            ]
          },
          "metadata": {
            "needs_background": "light"
          }
        }
      ]
    }
  ]
}